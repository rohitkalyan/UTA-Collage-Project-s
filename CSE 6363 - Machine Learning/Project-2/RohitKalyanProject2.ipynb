{
 "cells": [
  {
   "cell_type": "markdown",
   "id": "0edf5c6e",
   "metadata": {},
   "source": [
    "## Importing Required Packages"
   ]
  },
  {
   "cell_type": "code",
   "execution_count": 1,
   "id": "716d58c6",
   "metadata": {},
   "outputs": [
    {
     "name": "stderr",
     "output_type": "stream",
     "text": [
      "[nltk_data] Downloading package punkt to\n",
      "[nltk_data]     C:\\Users\\balur\\AppData\\Roaming\\nltk_data...\n",
      "[nltk_data]   Package punkt is already up-to-date!\n"
     ]
    }
   ],
   "source": [
    "import os\n",
    "import nltk\n",
    "nltk.download('punkt')\n",
    "from nltk import word_tokenize\n",
    "from collections import Counter\n",
    "from tqdm import tqdm\n",
    "import random"
   ]
  },
  {
   "cell_type": "markdown",
   "id": "da1ea59a",
   "metadata": {},
   "source": [
    "## Loading Data Set"
   ]
  },
  {
   "cell_type": "code",
   "execution_count": 2,
   "id": "c3bd0393",
   "metadata": {},
   "outputs": [],
   "source": [
    "data_set = {}"
   ]
  },
  {
   "cell_type": "code",
   "execution_count": 3,
   "id": "ff4c304e",
   "metadata": {},
   "outputs": [],
   "source": [
    "for root, dirs, files in os.walk(\"C:/Users/balur/OneDrive/Desktop/UTA/Sem-2/ML/Project's/project-2/20_newsgroups\"): \n",
    "    for d in dirs:\n",
    "        data_set[d]=[]\n",
    "        for f in (os.scandir(\"C:/Users/balur/OneDrive/Desktop/UTA/Sem-2/ML/Project's/project-2/20_newsgroups/\"+d)):\n",
    "            data_set[d].append(f.name)"
   ]
  },
  {
   "cell_type": "code",
   "execution_count": 4,
   "id": "a5d159d1",
   "metadata": {},
   "outputs": [],
   "source": [
    "train_data ={}\n",
    "test_data ={}"
   ]
  },
  {
   "cell_type": "markdown",
   "id": "beb5a28b",
   "metadata": {},
   "source": [
    "### Classes"
   ]
  },
  {
   "cell_type": "code",
   "execution_count": 5,
   "id": "89c410b3",
   "metadata": {},
   "outputs": [
    {
     "data": {
      "text/plain": [
       "dict_keys(['alt.atheism', 'comp.graphics', 'comp.os.ms-windows.misc', 'comp.sys.ibm.pc.hardware', 'comp.sys.mac.hardware', 'comp.windows.x', 'misc.forsale', 'rec.autos', 'rec.motorcycles', 'rec.sport.baseball', 'rec.sport.hockey', 'sci.crypt', 'sci.electronics', 'sci.med', 'sci.space', 'soc.religion.christian', 'talk.politics.guns', 'talk.politics.mideast', 'talk.politics.misc', 'talk.religion.misc'])"
      ]
     },
     "execution_count": 5,
     "metadata": {},
     "output_type": "execute_result"
    }
   ],
   "source": [
    "data_set.keys()"
   ]
  },
  {
   "cell_type": "markdown",
   "id": "667a1088",
   "metadata": {},
   "source": [
    "### Splitting Data Set into train and test 50:50"
   ]
  },
  {
   "cell_type": "code",
   "execution_count": 6,
   "id": "3558cdb3",
   "metadata": {},
   "outputs": [
    {
     "name": "stderr",
     "output_type": "stream",
     "text": [
      "100%|████████████████████████████████████████████████████████████████████████████████| 20/20 [00:00<00:00, 2500.18it/s]\n"
     ]
    }
   ],
   "source": [
    "for class_name in tqdm(data_set.keys()):    \n",
    "    l = int(len(data_set[class_name])*0.5) \n",
    "    random.shuffle(data_set[class_name])\n",
    "    train_data[class_name] = data_set[class_name][0:l]\n",
    "    test_data[class_name] = data_set[class_name][l:2*l]"
   ]
  },
  {
   "cell_type": "code",
   "execution_count": 7,
   "id": "11daa21e",
   "metadata": {},
   "outputs": [],
   "source": [
    "words =[]"
   ]
  },
  {
   "cell_type": "code",
   "execution_count": 8,
   "id": "c79198d3",
   "metadata": {},
   "outputs": [],
   "source": [
    "tr_words ={}    "
   ]
  },
  {
   "cell_type": "code",
   "execution_count": 9,
   "id": "5392ff06",
   "metadata": {},
   "outputs": [],
   "source": [
    "words_count = {}"
   ]
  },
  {
   "cell_type": "code",
   "execution_count": 10,
   "id": "e9d538d7",
   "metadata": {},
   "outputs": [],
   "source": [
    "spl_characters = [']',';',':','|','\\\\','\"',\"'\",'\\n','<','>',',','.','?','/','-','*','~','`','!','@','^','$','%','&','*','(',')','+','=','{','}','[']"
   ]
  },
  {
   "cell_type": "markdown",
   "id": "299202e7",
   "metadata": {},
   "source": [
    "### Extracting Words "
   ]
  },
  {
   "cell_type": "code",
   "execution_count": 11,
   "id": "8faae748",
   "metadata": {},
   "outputs": [
    {
     "name": "stderr",
     "output_type": "stream",
     "text": [
      "100%|██████████████████████████████████████████████████████████████████████████████████| 20/20 [00:23<00:00,  1.15s/it]\n"
     ]
    }
   ],
   "source": [
    "for i in tqdm(train_data):  \n",
    "    tr_words[i]=[]\n",
    "    for j in train_data[i]:\n",
    "        with open((\"C:/Users/balur/OneDrive/Desktop/UTA/Sem-2/ML/Project's/project-2/20_newsgroups//\"+i +\"//\"+j),encoding=\"utf-8\", errors='ignore') as value:\n",
    "            value = value.read()\n",
    "            value = value.replace(\"\\n\",\" \")\n",
    "            for k in spl_characters:\n",
    "                value.replace(k,\" \")    \n",
    "            tr_words[i].extend(word_tokenize(value))\n",
    "    words_count[i] = Counter(tr_words[i])\n",
    "    words.extend(tr_words[i])  \n",
    "words = set(words)"
   ]
  },
  {
   "cell_type": "code",
   "execution_count": 12,
   "id": "c9ba8df0",
   "metadata": {},
   "outputs": [
    {
     "name": "stdout",
     "output_type": "stream",
     "text": [
      "total words: 204092\n"
     ]
    }
   ],
   "source": [
    "print('total words:',(len(words)))"
   ]
  },
  {
   "cell_type": "markdown",
   "id": "0cc92ba9",
   "metadata": {},
   "source": [
    "### dictionary of prob of a word in each class"
   ]
  },
  {
   "cell_type": "code",
   "execution_count": 13,
   "id": "4e56ebaa",
   "metadata": {},
   "outputs": [
    {
     "name": "stderr",
     "output_type": "stream",
     "text": [
      "100%|███████████████████████████████████████████████████████████████████████| 204092/204092 [00:02<00:00, 70312.12it/s]\n"
     ]
    }
   ],
   "source": [
    "words = list(words)\n",
    "dictionary = {}\n",
    "doc_num = 1\n",
    "for i in tqdm(words): \n",
    "    dictionary[i] = {}\n",
    "    for j in tr_words: \n",
    "        if i in words_count[j]:\n",
    "            dictionary[i][j] = words_count[j][i]\n",
    "        else:\n",
    "            dictionary[i][j] = 0.1\n",
    "        dictionary[i][j]/=len(tr_words[j])"
   ]
  },
  {
   "cell_type": "code",
   "execution_count": 14,
   "id": "01d52eec",
   "metadata": {},
   "outputs": [],
   "source": [
    "prob = {}\n",
    "total= 0"
   ]
  },
  {
   "cell_type": "markdown",
   "id": "43c61a91",
   "metadata": {},
   "source": [
    "## Calculating probabilities of words in train data set"
   ]
  },
  {
   "cell_type": "code",
   "execution_count": 15,
   "id": "fe63a358",
   "metadata": {},
   "outputs": [],
   "source": [
    "for i in train_data:\n",
    "    prob[i] = len(train_data[i])\n",
    "    total += len(train_data[i])\n",
    "for j in prob:\n",
    "    prob[j] = prob[j]/total"
   ]
  },
  {
   "cell_type": "code",
   "execution_count": 16,
   "id": "b6e6fa1c",
   "metadata": {},
   "outputs": [],
   "source": [
    "correct = 0\n",
    "total_count = 0"
   ]
  },
  {
   "cell_type": "markdown",
   "id": "7bc85b50",
   "metadata": {},
   "source": [
    "##  Naive Bayes classifier on Test Data Set"
   ]
  },
  {
   "cell_type": "code",
   "execution_count": 17,
   "id": "e4da40b8",
   "metadata": {},
   "outputs": [
    {
     "name": "stderr",
     "output_type": "stream",
     "text": [
      "100%|██████████████████████████████████████████████████████████████████████████████████| 20/20 [00:41<00:00,  2.08s/it]\n"
     ]
    }
   ],
   "source": [
    "for class_name in tqdm(test_data):\n",
    "    for file_name in test_data[class_name]:\n",
    "        \n",
    "        with open((\"C:/Users/balur/OneDrive/Desktop/UTA/Sem-2/ML/Project's/project-2/20_newsgroups//\"+class_name +\"//\"+file_name),encoding=\"utf-8\", errors='ignore') as value:\n",
    "            value = value.read()\n",
    "            test_words = word_tokenize(value)\n",
    "            test_words = set(test_words)\n",
    "            p = {}\n",
    "            for k in test_data:\n",
    "                p[k] = prob[k]\n",
    "                for w in test_words:\n",
    "                    if w in dictionary:\n",
    "                        p[k] = p[k]* dictionary[w][k]*1000\n",
    "                    else:\n",
    "                        p[k] = p[k]* 0.1/len(tr_words[class_name])*1000\n",
    "            max_keys = [k for k, v in p.items() if v == max(p.values())]\n",
    "            correct += (max_keys[0]==class_name)\n",
    "            total_count+=1"
   ]
  },
  {
   "cell_type": "code",
   "execution_count": 18,
   "id": "c96f94c3",
   "metadata": {},
   "outputs": [
    {
     "name": "stdout",
     "output_type": "stream",
     "text": [
      "Accuracy:  78.29565913182637\n"
     ]
    }
   ],
   "source": [
    "print(\"Accuracy: \", correct*100/total_count) #76.90538107621525 #78.8257651530306"
   ]
  }
 ],
 "metadata": {
  "kernelspec": {
   "display_name": "Python 3 (ipykernel)",
   "language": "python",
   "name": "python3"
  },
  "language_info": {
   "codemirror_mode": {
    "name": "ipython",
    "version": 3
   },
   "file_extension": ".py",
   "mimetype": "text/x-python",
   "name": "python",
   "nbconvert_exporter": "python",
   "pygments_lexer": "ipython3",
   "version": "3.9.7"
  }
 },
 "nbformat": 4,
 "nbformat_minor": 5
}
